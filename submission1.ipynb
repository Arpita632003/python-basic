{
 "cells": [
  {
   "cell_type": "code",
   "execution_count": null,
   "id": "ad12a8ef-4c09-44f9-87b1-bb395aae17d8",
   "metadata": {},
   "outputs": [],
   "source": [
    "#Explain the key features of Python that make it a popular choice for programming.\n",
    "Python is a programming language that is easy to understand and write, making it a popular choice among developers and programmers. \n",
    "It is compatible with various programming paradigms, such as procedural, object-oriented, and functional programming. \n",
    "Python has a large and active community of developers, an extensive standard library, and third-party packages for various domains. "
   ]
  },
  {
   "cell_type": "code",
   "execution_count": null,
   "id": "153e8747-59aa-4eaa-99db-cb3d0318e013",
   "metadata": {},
   "outputs": [],
   "source": [
    "#Describe the role of predefined keywords in Python and provide examples of how they are used in a program.\n",
    "Keywords are reserved words in Python that have special meanings and cannot be used as identifiers .\n",
    "for example-\n",
    "count=50\n",
    "while count>0:\n",
    "    print(count)\n",
    "    count=\n",
    "else:\n",
    "    print(\"This will be executed when the while is run succesfuly without any break\")\n",
    "    for,while,else, print etc are predefined keywords "
   ]
  },
  {
   "cell_type": "code",
   "execution_count": null,
   "id": "8d3ac69b-b6fd-4017-b4b8-e7ad437b58eb",
   "metadata": {},
   "outputs": [],
   "source": [
    "#Compare and contrast mutable and immutable ob\f",
    "ects in Python with examples\n",
    "-object whose state or value can be changed after they are created are called as mutable object or container.\n",
    "-List is type of mutable object.\n",
    " example-\n",
    "    list_cont=[1,2,3,5+6j,\"Ram\",True]\n",
    "list_cont\n",
    "User can changed this list.\n",
    "-object whose state or value can not  changed after they are created are called as Immutable object or container.\n",
    "-String is a type of immmutable object\n",
    "-Does not support item assignment.   \n",
    "-for immutable object any string which we use is does not change after create."
   ]
  },
  {
   "cell_type": "code",
   "execution_count": null,
   "id": "0bd3a70f-c167-4726-9d37-7b7bbfe18f1a",
   "metadata": {},
   "outputs": [],
   "source": [
    "Discuss the different types of operators in Python and provide examples of how they are used.\n",
    "Python supports various types of operators-\n",
    "1)Arithmetic operators (+, -, *, /)\n",
    "example-\n",
    "a=2\n",
    "b=3\n",
    "a+b \n",
    "21%4\n",
    "2)comparison operators (==, !=, <, >)\n",
    "example-\n",
    "2!= 5\n",
    "2==2\n",
    "3) Logical operators (and, or, not)\n",
    "True and True=T  \n",
    "True Or True=T\n",
    "4) Assignment operators (=, +=, -=, *=, /=)\n",
    "b=12\n",
    "b-=5\n",
    "a=23\n",
    "a/=3"
   ]
  },
  {
   "cell_type": "code",
   "execution_count": null,
   "id": "53d988cd-0795-41ce-a804-3c10c67e37d7",
   "metadata": {},
   "outputs": [],
   "source": [
    "#Explain the concept of type casting in Python with examples.\n",
    "-Type casting, also referred to as type conversion, is the process of changing one data type to another in Python. \n",
    "Python provides built-in functions for type casting, such as int(), float(), str(), list(), tuple(), dict(), etc.\n",
    "Type casting is often necessary for performing arithmetic operations, data manipulation, and input/output operations in Python programs.\n",
    "-example\n",
    "a=\"3\"\n",
    "b=2\n",
    "int(a)+b"
   ]
  },
  {
   "cell_type": "code",
   "execution_count": null,
   "id": "6cebf9a9-f804-40b1-b7f0-4905ec6ad5fa",
   "metadata": {},
   "outputs": [],
   "source": [
    "#How do conditional statements work in Python? Illustrate with examples.\n",
    "-Conditionals in Python are used to execute code based on the evaluation of one or more conditions.\n",
    "-Conditionals can be nested to handle multiple conditions and control different branches of execution based on the outcome of logical expressions.\n",
    "-example\n",
    "if\n",
    "if-else\n",
    "if-elif-else\n",
    "  nested if-else\n",
    "1)a=100\n",
    "if a>0:\n",
    "    print(\"The number is greater than 0\")\n",
    "2)weather=\"Sunny\"\n",
    "if weather==\"Rainy\":\n",
    "    print(\"I will not play cricket\")\n",
    "else:\n",
    "    print(\"I will watch TV\")\n",
    "3)a=400\n",
    "if a<400:\n",
    "    print(\" a is less than 400\")\n",
    "elif a>400:\n",
    "    (\"  a is greater  than 400\")\n",
    "else: \n",
    "    (\"  a is equal to 400\")\n",
    "4)x=7\n",
    "y=2\n",
    "if x>5:\n",
    "    if y>5:\n",
    "        print(\"Both x and y is greater than 5\")\n",
    "    else:\n",
    "        print(\"x is greather than 5 but y is less than 5\")\n",
    "else:\n",
    "    print(\"x is not greater than 5\")"
   ]
  },
  {
   "cell_type": "code",
   "execution_count": null,
   "id": "d53d5b3a-1718-4aab-98c8-3337a72f6491",
   "metadata": {},
   "outputs": [],
   "source": [
    "#Describe the different types of loops in Python and their use cases with examples.\n",
    "Their are two types of loop-\n",
    "1)For loop-\n",
    "“for” loops are used for iterating over a sequence of elements.\n",
    "example-\n",
    "  for i in \"pwskills\":\n",
    "   print(i)  \n",
    "2)While loop-\n",
    "while “while” loops are used for executing code until a specified condition becomes False.\n",
    "example-\n",
    "    n=7\n",
    "i=1\n",
    "while i<n:\n",
    "    print(i)\n",
    "    i=i+1\n"
   ]
  },
  {
   "cell_type": "code",
   "execution_count": null,
   "id": "628c6522-09d5-4933-bbe3-263a10c0e386",
   "metadata": {},
   "outputs": [],
   "source": []
  }
 ],
 "metadata": {
  "kernelspec": {
   "display_name": "Python 3 (ipykernel)",
   "language": "python",
   "name": "python3"
  },
  "language_info": {
   "codemirror_mode": {
    "name": "ipython",
    "version": 3
   },
   "file_extension": ".py",
   "mimetype": "text/x-python",
   "name": "python",
   "nbconvert_exporter": "python",
   "pygments_lexer": "ipython3",
   "version": "3.12.4"
  }
 },
 "nbformat": 4,
 "nbformat_minor": 5
}
